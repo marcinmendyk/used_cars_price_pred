{
 "cells": [
  {
   "cell_type": "markdown",
   "metadata": {},
   "source": [
    "<a class=\"anchor\" id=\"0\"></a>\n",
    "\n",
    "# Used Cars Price Prediction by 15 different models"
   ]
  },
  {
   "cell_type": "markdown",
   "metadata": {},
   "source": [
    "Build of the 15 most popular models, the most complex models from them are tuned (optimized)\n",
    "\n",
    "Comparison of the optimal for each type models."
   ]
  },
  {
   "cell_type": "markdown",
   "metadata": {},
   "source": [
    "Table of Contents\n",
    "\n",
    "1. [Import libraries](#1)\n",
    "1. [Download datasets](#2)\n",
    "1. [EDA](#3)\n",
    "1. [Preparing to modeling](#4)\n",
    "1. [Tuning models](#5)\n",
    "    -  [Linear Regression](#5.1)\n",
    "    -  [Support Vector Machines](#5.2)\n",
    "    -  [Linear SVR](#5.3)\n",
    "    -  [MLPRegressor](#5.4)\n",
    "    -  [Stochastic Gradient Descent](#5.5)\n",
    "    -  [Decision Tree Regressor](#5.6)\n",
    "    -  [Random Forest with GridSearchCV](#5.7)\n",
    "    -  [XGB](#5.8)\n",
    "    -  [LGBM](#5.9)\n",
    "    -  [GradientBoostingRegressor with HyperOpt](#5.10)\n",
    "    -  [RidgeRegressor](#5.11)\n",
    "    -  [BaggingRegressor](#5.12)\n",
    "    -  [ExtraTreesRegressor](#5.13)\n",
    "    -  [AdaBoost Regressor](#5.14)\n",
    "    -  [VotingRegressor](#5.15)\n",
    "1. [Models comparison](#6)\n",
    "1. [Prediction](#7)"
   ]
  },
  {
   "cell_type": "markdown",
   "metadata": {},
   "source": [
    "## 1. Import libraries <a class=\"anchor\" id=\"1\"></a>\n",
    "\n"
   ]
  },
  {
   "cell_type": "code",
   "execution_count": null,
   "metadata": {
    "_cell_guid": "b1076dfc-b9ad-4769-8c92-a6c4dae69d19",
    "_uuid": "8f2839f25d086af736a60e9eeb907d3b93b6e0e5"
   },
   "outputs": [],
   "source": [
    "import numpy as np\n",
    "import pandas as pd\n",
    "import matplotlib.pyplot as plt\n",
    "%matplotlib inline\n",
    "\n",
    "# preprocessing\n",
    "from sklearn.preprocessing import LabelEncoder, StandardScaler\n",
    "from sklearn.model_selection import train_test_split, cross_val_score, GridSearchCV, StratifiedKFold\n",
    "import pandas_profiling as pp\n",
    "\n",
    "# models\n",
    "from sklearn.linear_model import LinearRegression, SGDRegressor, RidgeCV\n",
    "from sklearn.svm import SVR, LinearSVR\n",
    "from sklearn.ensemble import RandomForestRegressor, GradientBoostingRegressor, ExtraTreesRegressor \n",
    "from sklearn.ensemble import BaggingRegressor, AdaBoostRegressor, VotingRegressor \n",
    "from sklearn.neural_network import MLPRegressor\n",
    "from sklearn.tree import DecisionTreeRegressor\n",
    "import sklearn.model_selection\n",
    "from sklearn.model_selection import cross_val_predict as cvp\n",
    "from sklearn import metrics\n",
    "from sklearn.metrics import r2_score, mean_absolute_error, mean_squared_error\n",
    "import xgboost as xgb\n",
    "import lightgbm as lgb\n",
    "\n",
    "# model tuning\n",
    "from hyperopt import STATUS_OK, Trials, fmin, hp, tpe, space_eval\n",
    "\n",
    "import warnings\n",
    "warnings.filterwarnings(\"ignore\")"
   ]
  },
  {
   "cell_type": "markdown",
   "metadata": {},
   "source": [
    "## 2. Download datasets <a class=\"anchor\" id=\"2\"></a>\n",
    "\n",
    "[Back to Table of Contents](#0.1)"
   ]
  },
  {
   "cell_type": "code",
   "execution_count": null,
   "metadata": {},
   "outputs": [],
   "source": [
    "valid_part = 0.3\n",
    "pd.set_option('max_columns',100)"
   ]
  },
  {
   "cell_type": "code",
   "execution_count": null,
   "metadata": {},
   "outputs": [],
   "source": [
    "train0 = pd.read_csv('/kaggle/input/craigslist-carstrucks-data/craigslistVehicles.csv')\n",
    "train0.head(5)"
   ]
  },
  {
   "cell_type": "code",
   "execution_count": null,
   "metadata": {},
   "outputs": [],
   "source": [
    "drop_columns = ['url', 'city', 'city_url', 'make', 'title_status', 'VIN', 'size', 'image_url', 'desc', 'lat','long']\n",
    "train0 = train0.drop(columns = drop_columns)"
   ]
  },
  {
   "cell_type": "code",
   "execution_count": null,
   "metadata": {},
   "outputs": [],
   "source": [
    "train0.info()"
   ]
  },
  {
   "cell_type": "code",
   "execution_count": null,
   "metadata": {},
   "outputs": [],
   "source": [
    "train0 = train0.dropna()\n",
    "train0.head(5)"
   ]
  },
  {
   "cell_type": "code",
   "execution_count": null,
   "metadata": {},
   "outputs": [],
   "source": [
    "# from the my kernel: https://www.kaggle.com/vbmokin/automatic-selection-from-20-classifier-models\n",
    "# Determination categorical features\n",
    "numerics = ['int8', 'int16', 'int32', 'int64', 'float16', 'float32', 'float64']\n",
    "categorical_columns = []\n",
    "features = train0.columns.values.tolist()\n",
    "for col in features:\n",
    "    if train0[col].dtype in numerics: continue\n",
    "    categorical_columns.append(col)\n",
    "# Encoding categorical features\n",
    "for col in categorical_columns:\n",
    "    if col in train0.columns:\n",
    "        le = LabelEncoder()\n",
    "        le.fit(list(train0[col].astype(str).values))\n",
    "        train0[col] = le.transform(list(train0[col].astype(str).values))"
   ]
  },
  {
   "cell_type": "code",
   "execution_count": null,
   "metadata": {},
   "outputs": [],
   "source": [
    "train0['year'] = (train0['year']-1900).astype(int)\n",
    "train0['odometer'] = train0['odometer'].astype(int)"
   ]
  },
  {
   "cell_type": "code",
   "execution_count": null,
   "metadata": {},
   "outputs": [],
   "source": [
    "train0.head(10)"
   ]
  },
  {
   "cell_type": "code",
   "execution_count": null,
   "metadata": {},
   "outputs": [],
   "source": [
    "train0.info()"
   ]
  },
  {
   "cell_type": "markdown",
   "metadata": {},
   "source": [
    "## 3. EDA <a class=\"anchor\" id=\"3\"></a>\n",
    "\n",
    "[Back to Table of Contents](#0.1)"
   ]
  },
  {
   "cell_type": "markdown",
   "metadata": {},
   "source": [
    "This code is based on my kernel \"[FE & EDA with Pandas Profiling](https://www.kaggle.com/vbmokin/fe-eda-with-pandas-profiling)\""
   ]
  },
  {
   "cell_type": "code",
   "execution_count": null,
   "metadata": {},
   "outputs": [],
   "source": [
    "train0['price'].value_counts()"
   ]
  },
  {
   "cell_type": "code",
   "execution_count": null,
   "metadata": {},
   "outputs": [],
   "source": [
    "train0 = train0[train0['price'] > 1000]\n",
    "train0 = train0[train0['price'] < 40000]\n",
    "# Rounded ['odometer'] to 5000\n",
    "train0['odometer'] = train0['odometer'] // 5000\n",
    "train0 = train0[train0['year'] > 110]"
   ]
  },
  {
   "cell_type": "code",
   "execution_count": null,
   "metadata": {},
   "outputs": [],
   "source": [
    "train0.info()"
   ]
  },
  {
   "cell_type": "code",
   "execution_count": null,
   "metadata": {},
   "outputs": [],
   "source": [
    "train0.corr()"
   ]
  },
  {
   "cell_type": "code",
   "execution_count": null,
   "metadata": {},
   "outputs": [],
   "source": [
    "train0.describe()"
   ]
  },
  {
   "cell_type": "code",
   "execution_count": null,
   "metadata": {},
   "outputs": [],
   "source": [
    "pp.ProfileReport(train0)"
   ]
  },
  {
   "cell_type": "markdown",
   "metadata": {},
   "source": [
    "## 4. Preparing to modeling <a class=\"anchor\" id=\"4\"></a>\n",
    "\n",
    "[Back to Table of Contents](#0.1)"
   ]
  },
  {
   "cell_type": "code",
   "execution_count": null,
   "metadata": {},
   "outputs": [],
   "source": [
    "target_name = 'price'\n",
    "train_target0 = train0[target_name]\n",
    "train0 = train0.drop([target_name], axis=1)"
   ]
  },
  {
   "cell_type": "code",
   "execution_count": null,
   "metadata": {},
   "outputs": [],
   "source": [
    "# Synthesis test0 from train0\n",
    "train0, test0, train_target0, test_target0 = train_test_split(train0, train_target0, test_size=0.2, random_state=0)"
   ]
  },
  {
   "cell_type": "code",
   "execution_count": null,
   "metadata": {},
   "outputs": [],
   "source": [
    "# For boosting model\n",
    "train0b = train0\n",
    "train_target0b = train_target0\n",
    "# Synthesis valid as test for selection models\n",
    "trainb, testb, targetb, target_testb = train_test_split(train0b, train_target0b, test_size=valid_part, random_state=0)"
   ]
  },
  {
   "cell_type": "code",
   "execution_count": null,
   "metadata": {},
   "outputs": [],
   "source": [
    "#For models from Sklearn\n",
    "scaler = StandardScaler()\n",
    "train0 = pd.DataFrame(scaler.fit_transform(train0), columns = train0.columns)"
   ]
  },
  {
   "cell_type": "code",
   "execution_count": null,
   "metadata": {},
   "outputs": [],
   "source": [
    "train0.head(3)"
   ]
  },
  {
   "cell_type": "code",
   "execution_count": null,
   "metadata": {},
   "outputs": [],
   "source": [
    "len(train0)"
   ]
  },
  {
   "cell_type": "code",
   "execution_count": null,
   "metadata": {},
   "outputs": [],
   "source": [
    "# Synthesis valid as test for selection models\n",
    "train, test, target, target_test = train_test_split(train0, train_target0, test_size=valid_part, random_state=0)"
   ]
  },
  {
   "cell_type": "code",
   "execution_count": null,
   "metadata": {},
   "outputs": [],
   "source": [
    "train.head(3)"
   ]
  },
  {
   "cell_type": "code",
   "execution_count": null,
   "metadata": {},
   "outputs": [],
   "source": [
    "test.head(3)"
   ]
  },
  {
   "cell_type": "code",
   "execution_count": null,
   "metadata": {},
   "outputs": [],
   "source": [
    "train.info()"
   ]
  },
  {
   "cell_type": "code",
   "execution_count": null,
   "metadata": {},
   "outputs": [],
   "source": [
    "test.info()"
   ]
  },
  {
   "cell_type": "code",
   "execution_count": null,
   "metadata": {},
   "outputs": [],
   "source": [
    "acc_train_r2 = []\n",
    "acc_test_r2 = []\n",
    "acc_train_d = []\n",
    "acc_test_d = []\n",
    "acc_train_rmse = []\n",
    "acc_test_rmse = []"
   ]
  },
  {
   "cell_type": "code",
   "execution_count": null,
   "metadata": {},
   "outputs": [],
   "source": [
    "def acc_d(y_meas, y_pred):\n",
    "    # Relative error between predicted y_pred and measured y_meas values\n",
    "    return mean_absolute_error(y_meas, y_pred)*len(y_meas)/sum(abs(y_meas))\n",
    "\n",
    "def acc_rmse(y_meas, y_pred):\n",
    "    # RMSE between predicted y_pred and measured y_meas values\n",
    "    return (mean_squared_error(y_meas, y_pred))**0.5"
   ]
  },
  {
   "cell_type": "code",
   "execution_count": null,
   "metadata": {},
   "outputs": [],
   "source": [
    "def acc_boosting_model(num,model,train,test,num_iteration=0):\n",
    "    # Calculation of accuracy of boosting model by different metrics\n",
    "    \n",
    "    global acc_train_r2, acc_test_r2, acc_train_d, acc_test_d, acc_train_rmse, acc_test_rmse\n",
    "    \n",
    "    if num_iteration > 0:\n",
    "        ytrain = model.predict(train, num_iteration = num_iteration)  \n",
    "        ytest = model.predict(test, num_iteration = num_iteration)\n",
    "    else:\n",
    "        ytrain = model.predict(train)  \n",
    "        ytest = model.predict(test)\n",
    "\n",
    "    print('target = ', targetb[:5].values)\n",
    "    print('ytrain = ', ytrain[:5])\n",
    "\n",
    "    acc_train_r2_num = round(r2_score(targetb, ytrain) * 100, 2)\n",
    "    print('acc(r2_score) for train =', acc_train_r2_num)   \n",
    "    acc_train_r2.insert(num, acc_train_r2_num)\n",
    "\n",
    "    acc_train_d_num = round(acc_d(targetb, ytrain) * 100, 2)\n",
    "    print('acc(relative error) for train =', acc_train_d_num)   \n",
    "    acc_train_d.insert(num, acc_train_d_num)\n",
    "\n",
    "    acc_train_rmse_num = round(acc_rmse(targetb, ytrain) * 100, 2)\n",
    "    print('acc(rmse) for train =', acc_train_rmse_num)   \n",
    "    acc_train_rmse.insert(num, acc_train_rmse_num)\n",
    "\n",
    "    print('target_test =', target_testb[:5].values)\n",
    "    print('ytest =', ytest[:5])\n",
    "    \n",
    "    acc_test_r2_num = round(r2_score(target_testb, ytest) * 100, 2)\n",
    "    print('acc(r2_score) for test =', acc_test_r2_num)\n",
    "    acc_test_r2.insert(num, acc_test_r2_num)\n",
    "    \n",
    "    acc_test_d_num = round(acc_d(target_testb, ytest) * 100, 2)\n",
    "    print('acc(relative error) for test =', acc_test_d_num)\n",
    "    acc_test_d.insert(num, acc_test_d_num)\n",
    "    \n",
    "    acc_test_rmse_num = round(acc_rmse(target_testb, ytest) * 100, 2)\n",
    "    print('acc(rmse) for test =', acc_test_rmse_num)\n",
    "    acc_test_rmse.insert(num, acc_test_rmse_num)"
   ]
  },
  {
   "cell_type": "code",
   "execution_count": null,
   "metadata": {},
   "outputs": [],
   "source": [
    "def acc_model(num,model,train,test):\n",
    "    # Calculation of accuracy of model акщь Sklearn by different metrics   \n",
    "  \n",
    "    global acc_train_r2, acc_test_r2, acc_train_d, acc_test_d, acc_train_rmse, acc_test_rmse\n",
    "    \n",
    "    ytrain = model.predict(train)  \n",
    "    ytest = model.predict(test)\n",
    "\n",
    "    print('target = ', target[:5].values)\n",
    "    print('ytrain = ', ytrain[:5])\n",
    "\n",
    "    acc_train_r2_num = round(r2_score(target, ytrain) * 100, 2)\n",
    "    print('acc(r2_score) for train =', acc_train_r2_num)   \n",
    "    acc_train_r2.insert(num, acc_train_r2_num)\n",
    "\n",
    "    acc_train_d_num = round(acc_d(target, ytrain) * 100, 2)\n",
    "    print('acc(relative error) for train =', acc_train_d_num)   \n",
    "    acc_train_d.insert(num, acc_train_d_num)\n",
    "\n",
    "    acc_train_rmse_num = round(acc_rmse(target, ytrain) * 100, 2)\n",
    "    print('acc(rmse) for train =', acc_train_rmse_num)   \n",
    "    acc_train_rmse.insert(num, acc_train_rmse_num)\n",
    "\n",
    "    print('target_test =', target_test[:5].values)\n",
    "    print('ytest =', ytest[:5])\n",
    "    \n",
    "    acc_test_r2_num = round(r2_score(target_test, ytest) * 100, 2)\n",
    "    print('acc(r2_score) for test =', acc_test_r2_num)\n",
    "    acc_test_r2.insert(num, acc_test_r2_num)\n",
    "    \n",
    "    acc_test_d_num = round(acc_d(target_test, ytest) * 100, 2)\n",
    "    print('acc(relative error) for test =', acc_test_d_num)\n",
    "    acc_test_d.insert(num, acc_test_d_num)\n",
    "    \n",
    "    acc_test_rmse_num = round(acc_rmse(target_test, ytest) * 100, 2)\n",
    "    print('acc(rmse) for test =', acc_test_rmse_num)\n",
    "    acc_test_rmse.insert(num, acc_test_rmse_num)"
   ]
  },
  {
   "cell_type": "markdown",
   "metadata": {},
   "source": [
    "## 5. Tuning models and test for all features <a class=\"anchor\" id=\"5\"></a>\n",
    "\n",
    "[Back to Table of Contents](#0.1)"
   ]
  },
  {
   "cell_type": "markdown",
   "metadata": {},
   "source": [
    "Thanks to https://www.kaggle.com/startupsci/titanic-data-science-solutions\n",
    "\n",
    "Now we are ready to train a model and predict the required solution. There are 60+ predictive modelling algorithms to choose from. We must understand the type of problem and solution requirement to narrow down to a select few models which we can evaluate. Our problem is a regression problem. We want to identify relationship between output (Survived or not) with other variables or features (Gender, Age, Port...). We are also perfoming a category of machine learning which is called supervised learning as we are training our model with a given dataset. With these two criteria - Supervised Learning, we can narrow down our choice of models to a few. These include:\n",
    "\n",
    "- Linear Regression\n",
    "- Support Vector Machines and Linear SVR\n",
    "- Stochastic Gradient Descent, GradientBoostingRegressor, RidgeCV, BaggingRegressor\n",
    "- Decision Tree Regression, Random Forest, XGBRegressor, LGBM, ExtraTreesRegressor\n",
    "- MLPRegressor (Deep Learning)\n",
    "- VotingRegressor"
   ]
  },
  {
   "cell_type": "markdown",
   "metadata": {},
   "source": [
    "### 5.1 Linear Regression <a class=\"anchor\" id=\"5.1\"></a>\n",
    "\n",
    "[Back to Table of Contents](#0.1)"
   ]
  },
  {
   "cell_type": "markdown",
   "metadata": {},
   "source": [
    "**Linear Regression** is a linear approach to modeling the relationship between a scalar response (or dependent variable) and one or more explanatory variables (or independent variables). The case of one explanatory variable is called simple linear regression. For more than one explanatory variable, the process is called multiple linear regression. Reference [Wikipedia](https://en.wikipedia.org/wiki/Linear_regression).\n",
    "\n",
    "Note the confidence score generated by the model based on our training dataset."
   ]
  },
  {
   "cell_type": "code",
   "execution_count": null,
   "metadata": {},
   "outputs": [],
   "source": [
    "# Linear Regression\n",
    "\n",
    "linreg = LinearRegression()\n",
    "linreg.fit(train, target)\n",
    "acc_model(0,linreg,train,test)"
   ]
  },
  {
   "cell_type": "markdown",
   "metadata": {},
   "source": [
    "### 5.2 Support Vector Machines <a class=\"anchor\" id=\"5.2\"></a>\n",
    "\n",
    "[Back to Table of Contents](#0.1)"
   ]
  },
  {
   "cell_type": "markdown",
   "metadata": {},
   "source": [
    "**Support Vector Machines** are supervised learning models with associated learning algorithms that analyze data used for classification and regression analysis. Given a set of training samples, each marked as belonging to one or the other of two categories, an SVM training algorithm builds a model that assigns new test samples to one category or the other, making it a non-probabilistic binary linear classifier. Reference [Wikipedia](https://en.wikipedia.org/wiki/Support_vector_machine)."
   ]
  },
  {
   "cell_type": "code",
   "execution_count": null,
   "metadata": {},
   "outputs": [],
   "source": [
    "# Support Vector Machines\n",
    "\n",
    "svr = SVR()\n",
    "svr.fit(train, target)\n",
    "acc_model(1,svr,train,test)"
   ]
  },
  {
   "cell_type": "markdown",
   "metadata": {},
   "source": [
    "### 5.3 Linear SVR <a class=\"anchor\" id=\"5.3\"></a>\n",
    "\n",
    "[Back to Table of Contents](#0.1)"
   ]
  },
  {
   "cell_type": "markdown",
   "metadata": {},
   "source": [
    "**Linear SVR** is a similar to SVM method. Its also builds on kernel functions but is appropriate for unsupervised learning. Reference [Wikipedia](https://en.wikipedia.org/wiki/Support-vector_machine#Support-vector_clustering_(svr)."
   ]
  },
  {
   "cell_type": "code",
   "execution_count": null,
   "metadata": {},
   "outputs": [],
   "source": [
    "# Linear SVR\n",
    "\n",
    "linear_svr = LinearSVR()\n",
    "linear_svr.fit(train, target)\n",
    "acc_model(2,linear_svr,train,test)"
   ]
  },
  {
   "cell_type": "markdown",
   "metadata": {},
   "source": [
    "### 5.4 MLPRegressor <a class=\"anchor\" id=\"5.4\"></a>\n",
    "\n",
    "[Back to Table of Contents](#0.1)"
   ]
  },
  {
   "cell_type": "markdown",
   "metadata": {},
   "source": [
    "The **MLPRegressor** optimizes the squared-loss using LBFGS or stochastic gradient descent by the Multi-layer Perceptron regressor. Reference [Sklearn documentation](https://scikit-learn.org/stable/modules/generated/sklearn.neural_network.MLPRegressor.html#sklearn.neural_network.MLPRegressor)."
   ]
  },
  {
   "cell_type": "markdown",
   "metadata": {},
   "source": [
    "Thanks to:\n",
    "* https://scikit-learn.org/stable/modules/generated/sklearn.neural_network.MLPRegressor.html#sklearn.neural_network.MLPRegressor\n",
    "* https://stackoverflow.com/questions/44803596/scikit-learn-mlpregressor-performance-cap"
   ]
  },
  {
   "cell_type": "code",
   "execution_count": null,
   "metadata": {},
   "outputs": [],
   "source": [
    "# MLPRegressor\n",
    "\n",
    "mlp = MLPRegressor()\n",
    "param_grid = {'hidden_layer_sizes': [i for i in range(2,20)],\n",
    "              'activation': ['relu'],\n",
    "              'solver': ['adam'],\n",
    "              'learning_rate': ['constant'],\n",
    "              'learning_rate_init': [0.01],\n",
    "              'power_t': [0.5],\n",
    "              'alpha': [0.0001],\n",
    "              'max_iter': [1000],\n",
    "              'early_stopping': [True],\n",
    "              'warm_start': [False]}\n",
    "mlp_GS = GridSearchCV(mlp, param_grid=param_grid, \n",
    "                   cv=10, verbose=True, pre_dispatch='2*n_jobs')\n",
    "mlp_GS.fit(train, target)\n",
    "acc_model(3,mlp_GS,train,test)"
   ]
  },
  {
   "cell_type": "markdown",
   "metadata": {},
   "source": [
    "### 5.5 Stochastic Gradient Descent <a class=\"anchor\" id=\"5.5\"></a>\n",
    "\n",
    "[Back to Table of Contents](#0.1)"
   ]
  },
  {
   "cell_type": "markdown",
   "metadata": {},
   "source": [
    "**Stochastic gradient descent** (often abbreviated **SGD**) is an iterative method for optimizing an objective function with suitable smoothness properties (e.g. differentiable or subdifferentiable). It can be regarded as a stochastic approximation of gradient descent optimization, since it replaces the actual gradient (calculated from the entire data set) by an estimate thereof (calculated from a randomly selected subset of the data). Especially in big data applications this reduces the computational burden, achieving faster iterations in trade for a slightly lower convergence rate. Reference [Wikipedia](https://en.wikipedia.org/wiki/Stochastic_gradient_descent)."
   ]
  },
  {
   "cell_type": "code",
   "execution_count": null,
   "metadata": {},
   "outputs": [],
   "source": [
    "# Stochastic Gradient Descent\n",
    "\n",
    "sgd = SGDRegressor()\n",
    "sgd.fit(train, target)\n",
    "acc_model(4,sgd,train,test)"
   ]
  },
  {
   "cell_type": "markdown",
   "metadata": {},
   "source": [
    "### 5.6 Decision Tree Regressor <a class=\"anchor\" id=\"5.6\"></a>\n",
    "\n",
    "[Back to Table of Contents](#0.1)"
   ]
  },
  {
   "cell_type": "markdown",
   "metadata": {},
   "source": [
    "This model uses a **Decision Tree** as a predictive model which maps features (tree branches) to conclusions about the target value (tree leaves). Tree models where the target variable can take a finite set of values are called classification trees; in these tree structures, leaves represent class labels and branches represent conjunctions of features that lead to those class labels. Decision trees where the target variable can take continuous values (typically real numbers) are called regression trees. Reference [Wikipedia](https://en.wikipedia.org/wiki/Decision_tree_learning)."
   ]
  },
  {
   "cell_type": "code",
   "execution_count": null,
   "metadata": {},
   "outputs": [],
   "source": [
    "# Decision Tree Regression\n",
    "\n",
    "decision_tree = DecisionTreeRegressor()\n",
    "decision_tree.fit(train, target)\n",
    "acc_model(5,decision_tree,train,test)"
   ]
  },
  {
   "cell_type": "markdown",
   "metadata": {},
   "source": [
    "### 5.7 Random Forest <a class=\"anchor\" id=\"5.7\"></a>\n",
    "\n",
    "[Back to Table of Contents](#0.1)"
   ]
  },
  {
   "cell_type": "markdown",
   "metadata": {},
   "source": [
    "**Random Forest** is one of the most popular model. Random forests or random decision forests are an ensemble learning method for classification, regression and other tasks, that operate by constructing a multitude of decision trees (n_estimators= [100, 300]) at training time and outputting the class that is the mode of the classes (classification) or mean prediction (regression) of the individual trees. Reference [Wikipedia](https://en.wikipedia.org/wiki/Random_forest)."
   ]
  },
  {
   "cell_type": "code",
   "execution_count": null,
   "metadata": {},
   "outputs": [],
   "source": [
    "# Random Forest\n",
    "\n",
    "#random_forest = GridSearchCV(estimator=RandomForestRegressor(), param_grid={'n_estimators': [100, 1000]}, cv=5)\n",
    "random_forest = RandomForestRegressor()\n",
    "random_forest.fit(train, target)\n",
    "print(random_forest.best_params_)\n",
    "acc_model(6,random_forest,train,test)"
   ]
  },
  {
   "cell_type": "code",
   "execution_count": null,
   "metadata": {},
   "outputs": [],
   "source": [
    "acc_model(6,random_forest,train,test)"
   ]
  },
  {
   "cell_type": "markdown",
   "metadata": {},
   "source": [
    "### 5.8 XGB<a class=\"anchor\" id=\"5.8\"></a>\n",
    "\n",
    "[Back to Table of Contents](#0.1)"
   ]
  },
  {
   "cell_type": "markdown",
   "metadata": {},
   "source": [
    "**XGBoost** is an ensemble tree method that apply the principle of boosting weak learners (CARTs generally) using the gradient descent architecture. XGBoost improves upon the base Gradient Boosting Machines (GBM) framework through systems optimization and algorithmic enhancements. Reference [Towards Data Science.](https://towardsdatascience.com/https-medium-com-vishalmorde-xgboost-algorithm-long-she-may-rein-edd9f99be63d)"
   ]
  },
  {
   "cell_type": "code",
   "execution_count": null,
   "metadata": {},
   "outputs": [],
   "source": [
    "xgb_clf = xgb.XGBRegressor({'objective': 'reg:squarederror'}) \n",
    "parameters = {'n_estimators': [60, 100, 120, 140], \n",
    "              'learning_rate': [0.01, 0.1],\n",
    "              'max_depth': [5, 7],\n",
    "              'reg_lambda': [0.5]}\n",
    "xgb_reg = GridSearchCV(estimator=xgb_clf, param_grid=parameters, cv=5, n_jobs=-1).fit(trainb, targetb)\n",
    "print(\"Best score: %0.3f\" % xgb_reg.best_score_)\n",
    "print(\"Best parameters set:\", xgb_reg.best_params_)\n",
    "acc_boosting_model(7,xgb_reg,trainb,testb)"
   ]
  },
  {
   "cell_type": "code",
   "execution_count": null,
   "metadata": {},
   "outputs": [],
   "source": []
  },
  {
   "cell_type": "markdown",
   "metadata": {},
   "source": [
    "### 5.9 LGBM <a class=\"anchor\" id=\"5.9\"></a>\n",
    "\n",
    "[Back to Table of Contents](#0.1)"
   ]
  },
  {
   "cell_type": "markdown",
   "metadata": {},
   "source": [
    "**Light GBM** is a fast, distributed, high-performance gradient boosting framework based on decision tree algorithms. It splits the tree leaf wise with the best fit whereas other boosting algorithms split the tree depth wise or level wise rather than leaf-wise. So when growing on the same leaf in Light GBM, the leaf-wise algorithm can reduce more loss than the level-wise algorithm and hence results in much better accuracy which can rarely be achieved by any of the existing boosting algorithms. Also, it is surprisingly very fast, hence the word ‘Light’. Reference [Analytics Vidhya](https://www.analyticsvidhya.com/blog/2017/06/which-algorithm-takes-the-crown-light-gbm-vs-xgboost/)."
   ]
  },
  {
   "cell_type": "code",
   "execution_count": null,
   "metadata": {},
   "outputs": [],
   "source": [
    "#%% split training set to validation set\n",
    "Xtrain, Xval, Ztrain, Zval = train_test_split(trainb, targetb, test_size=0.2, random_state=0)\n",
    "train_set = lgb.Dataset(Xtrain, Ztrain, silent=False)\n",
    "valid_set = lgb.Dataset(Xval, Zval, silent=False)"
   ]
  },
  {
   "cell_type": "code",
   "execution_count": null,
   "metadata": {},
   "outputs": [],
   "source": [
    "params = {\n",
    "        'boosting_type':'gbdt',\n",
    "        'objective': 'regression',\n",
    "        'num_leaves': 31,\n",
    "        'learning_rate': 0.01,\n",
    "        'max_depth': -1,\n",
    "        'subsample': 0.8,\n",
    "        'bagging_fraction' : 1,\n",
    "        'max_bin' : 5000 ,\n",
    "        'bagging_freq': 20,\n",
    "        'colsample_bytree': 0.6,\n",
    "        'metric': 'rmse',\n",
    "        'min_split_gain': 0.5,\n",
    "        'min_child_weight': 1,\n",
    "        'min_child_samples': 10,\n",
    "        'scale_pos_weight':1,\n",
    "        'zero_as_missing': False,\n",
    "        'seed':0,        \n",
    "    }\n",
    "modelL = lgb.train(params, train_set = train_set, num_boost_round=10000,\n",
    "                   early_stopping_rounds=8000,verbose_eval=500, valid_sets=valid_set)"
   ]
  },
  {
   "cell_type": "code",
   "execution_count": null,
   "metadata": {},
   "outputs": [],
   "source": [
    "acc_boosting_model(8,modelL,trainb,testb,modelL.best_iteration)"
   ]
  },
  {
   "cell_type": "code",
   "execution_count": null,
   "metadata": {},
   "outputs": [],
   "source": [
    "fig =  plt.figure(figsize = (5,5))\n",
    "axes = fig.add_subplot(111)\n",
    "lgb.plot_importance(modelL,ax = axes,height = 0.5)\n",
    "plt.show();\n",
    "plt.close()"
   ]
  },
  {
   "cell_type": "markdown",
   "metadata": {},
   "source": [
    "### 5.10 GradientBoostingRegressor with HyperOpt<a class=\"anchor\" id=\"5.10\"></a>\n",
    "\n",
    "[Back to Table of Contents](#0.1)"
   ]
  },
  {
   "cell_type": "markdown",
   "metadata": {},
   "source": [
    "Thanks to https://www.kaggle.com/kabure/titanic-eda-model-pipeline-keras-nn"
   ]
  },
  {
   "cell_type": "markdown",
   "metadata": {},
   "source": [
    "**Gradient Boosting** builds an additive model in a forward stage-wise fashion; it allows for the optimization of arbitrary differentiable loss functions. In each stage n_classes_ regression trees are fit on the negative gradient of the binomial or multinomial deviance loss function. Binary classification is a special case where only a single regression tree is induced. The features are always randomly permuted at each split. Therefore, the best found split may vary, even with the same training data and max_features=n_features, if the improvement of the criterion is identical for several splits enumerated during the search of the best split. To obtain a deterministic behaviour during fitting, random_state has to be fixed. Reference [sklearn documentation](https://scikit-learn.org/stable/modules/generated/sklearn.ensemble.GradientBoostingClassifier.html)."
   ]
  },
  {
   "cell_type": "code",
   "execution_count": null,
   "metadata": {},
   "outputs": [],
   "source": [
    "def hyperopt_gb_score(params):\n",
    "    clf = GradientBoostingRegressor(**params)\n",
    "    current_score = cross_val_score(clf, train, target, cv=10).mean()\n",
    "    print(current_score, params)\n",
    "    return current_score \n",
    " \n",
    "space_gb = {\n",
    "            'n_estimators': hp.choice('n_estimators', range(100, 1000)),\n",
    "            'max_depth': hp.choice('max_depth', np.arange(2, 10, dtype=int))            \n",
    "        }\n",
    " \n",
    "best = fmin(fn=hyperopt_gb_score, space=space_gb, algo=tpe.suggest, max_evals=10)\n",
    "print('best:')\n",
    "print(best)"
   ]
  },
  {
   "cell_type": "code",
   "execution_count": null,
   "metadata": {},
   "outputs": [],
   "source": [
    "params = space_eval(space_gb, best)\n",
    "params"
   ]
  },
  {
   "cell_type": "code",
   "execution_count": null,
   "metadata": {},
   "outputs": [],
   "source": [
    "# Gradient Boosting Regression\n",
    "\n",
    "gradient_boosting = GradientBoostingRegressor(**params)\n",
    "gradient_boosting.fit(train, target)\n",
    "acc_model(9,gradient_boosting,train,test)"
   ]
  },
  {
   "cell_type": "markdown",
   "metadata": {},
   "source": [
    "### 5.11 RidgeRegressor <a class=\"anchor\" id=\"5.11\"></a>\n",
    "\n",
    "[Back to Table of Contents](#0.1)"
   ]
  },
  {
   "cell_type": "markdown",
   "metadata": {},
   "source": [
    "Tikhonov Regularization, colloquially known as **Ridge Regression**, is the most commonly used regression algorithm to approximate an answer for an equation with no unique solution. This type of problem is very common in machine learning tasks, where the \"best\" solution must be chosen using limited data. If a unique solution exists, algorithm will return the optimal value. However, if multiple solutions exist, it may choose any of them. Reference [Brilliant.org](https://brilliant.org/wiki/ridge-regression/)."
   ]
  },
  {
   "cell_type": "code",
   "execution_count": null,
   "metadata": {},
   "outputs": [],
   "source": [
    "# Ridge Regressor\n",
    "\n",
    "ridge = RidgeCV(cv=5)\n",
    "ridge.fit(train, target)\n",
    "acc_model(10,ridge,train,test)"
   ]
  },
  {
   "cell_type": "markdown",
   "metadata": {},
   "source": [
    "### 5.12 BaggingRegressor <a class=\"anchor\" id=\"5.12\"></a>\n",
    "\n",
    "[Back to Table of Contents](#0.1)"
   ]
  },
  {
   "cell_type": "markdown",
   "metadata": {},
   "source": [
    "Bootstrap aggregating, also called **Bagging**, is a machine learning ensemble meta-algorithm designed to improve the stability and accuracy of machine learning algorithms used in statistical classification and regression. It also reduces variance and helps to avoid overfitting. Although it is usually applied to decision tree methods, it can be used with any type of method. Bagging is a special case of the model averaging approach. Bagging leads to \"improvements for unstable procedures\", which include, for example, artificial neural networks, classification and regression trees, and subset selection in linear regression. On the other hand, it can mildly degrade the performance of stable methods such as K-nearest neighbors. Reference [Wikipedia](https://en.wikipedia.org/wiki/Bootstrap_aggregating)."
   ]
  },
  {
   "cell_type": "code",
   "execution_count": null,
   "metadata": {},
   "outputs": [],
   "source": [
    "# Bagging Regressor\n",
    "\n",
    "bagging = BaggingRegressor()\n",
    "bagging.fit(train, target)\n",
    "acc_model(11,bagging,train,test)"
   ]
  },
  {
   "cell_type": "markdown",
   "metadata": {},
   "source": [
    "### 5.13 ExtraTreesRegressor <a class=\"anchor\" id=\"5.13\"></a>\n",
    "\n",
    "[Back to Table of Contents](#0.1)"
   ]
  },
  {
   "cell_type": "markdown",
   "metadata": {},
   "source": [
    "**ExtraTreesRegressor** implements a meta estimator that fits a number of randomized decision trees (a.k.a. extra-trees) on various sub-samples of the dataset and uses averaging to improve the predictive accuracy and control over-fitting. The default values for the parameters controlling the size of the trees (e.g. max_depth, min_samples_leaf, etc.) lead to fully grown and unpruned trees which can potentially be very large on some data sets. To reduce memory consumption, the complexity and size of the trees should be controlled by setting those parameter values. Reference [sklearn documentation](https://scikit-learn.org/stable/modules/generated/sklearn.ensemble.ExtraTreesClassifier.html). \n",
    "\n",
    "In extremely randomized trees, randomness goes one step further in the way splits are computed. As in random forests, a random subset of candidate features is used, but instead of looking for the most discriminative thresholds, thresholds are drawn at random for each candidate feature and the best of these randomly-generated thresholds is picked as the splitting rule. This usually allows to reduce the variance of the model a bit more, at the expense of a slightly greater increase in bias. Reference [sklearn documentation](https://scikit-learn.org/stable/modules/ensemble.html#Extremely%20Randomized%20Trees)."
   ]
  },
  {
   "cell_type": "code",
   "execution_count": null,
   "metadata": {},
   "outputs": [],
   "source": [
    "# Extra Trees Regressor\n",
    "\n",
    "etr = ExtraTreesRegressor()\n",
    "etr.fit(train, target)\n",
    "acc_model(12,etr,train,test)"
   ]
  },
  {
   "cell_type": "markdown",
   "metadata": {},
   "source": [
    "### 5.14 AdaBoost Regressor <a class=\"anchor\" id=\"5.14\"></a>\n",
    "\n",
    "[Back to Table of Contents](#0.1)"
   ]
  },
  {
   "cell_type": "markdown",
   "metadata": {},
   "source": [
    "The core principle of **AdaBoost** is to fit a sequence of weak learners (i.e., models that are only slightly better than random guessing, such as small decision trees) on repeatedly modified versions of the data. The predictions from all of them are then combined through a weighted majority vote (or sum) to produce the final prediction. The data modifications at each so-called boosting iteration consist of applying N weights to each of the training samples. Initially, those weights are all set to 1/N, so that the first step simply trains a weak learner on the original data. For each successive iteration, the sample weights are individually modified and the learning algorithm is reapplied to the reweighted data. At a given step, those training examples that were incorrectly predicted by the boosted model induced at the previous step have their weights increased, whereas the weights are decreased for those that were predicted correctly. As iterations proceed, examples that are difficult to predict receive ever-increasing influence. Each subsequent weak learner is thereby forced to concentrate on the examples that are missed by the previous ones in the sequence. Reference [sklearn documentation](https://scikit-learn.org/stable/modules/ensemble.html#adaboost)."
   ]
  },
  {
   "cell_type": "code",
   "execution_count": null,
   "metadata": {},
   "outputs": [],
   "source": [
    "# AdaBoost Regression\n",
    "\n",
    "Ada_Boost = AdaBoostRegressor()\n",
    "Ada_Boost.fit(train, target)\n",
    "acc_model(13,Ada_Boost,train,test)"
   ]
  },
  {
   "cell_type": "markdown",
   "metadata": {},
   "source": [
    "### 5.15 VotingRegressor <a class=\"anchor\" id=\"5.15\"></a>\n",
    "\n",
    "[Back to Table of Contents](#0.1)"
   ]
  },
  {
   "cell_type": "markdown",
   "metadata": {},
   "source": [
    "A **Voting Regressor** is an ensemble meta-estimator that fits base regressors each on the whole dataset. It, then, averages the individual predictions to form a final prediction. Reference [sklearn documentation](https://scikit-learn.org/stable/modules/generated/sklearn.ensemble.VotingRegressor.html#sklearn.ensemble.VotingRegressor)."
   ]
  },
  {
   "cell_type": "markdown",
   "metadata": {},
   "source": [
    "Thanks for the example of ensemling different models from \n",
    "\n",
    "https://scikit-learn.org/stable/modules/generated/sklearn.ensemble.VotingRegressor.html#sklearn.ensemble.VotingRegressor"
   ]
  },
  {
   "cell_type": "code",
   "execution_count": null,
   "metadata": {},
   "outputs": [],
   "source": [
    "Voting_Reg = VotingRegressor(estimators=[('lin', linreg), ('ridge', ridge), ('sgd', sgd)])\n",
    "Voting_Reg.fit(train, target)\n",
    "acc_model(14,Voting_Reg,train,test)"
   ]
  },
  {
   "cell_type": "markdown",
   "metadata": {},
   "source": [
    "## 6. Models comparison <a class=\"anchor\" id=\"6\"></a>\n",
    "\n",
    "[Back to Table of Contents](#0.1)"
   ]
  },
  {
   "cell_type": "markdown",
   "metadata": {},
   "source": [
    "We can now compare our models and to choose the best one for our problem."
   ]
  },
  {
   "cell_type": "code",
   "execution_count": null,
   "metadata": {},
   "outputs": [],
   "source": [
    "models = pd.DataFrame({\n",
    "    'Model': ['Linear Regression', 'Support Vector Machines', 'Linear SVR', \n",
    "              'MLPRegressor', 'Stochastic Gradient Decent', \n",
    "              'Decision Tree Regressor', 'Random Forest',  'XGB', 'LGBM',\n",
    "              'GradientBoostingRegressor', 'RidgeRegressor', 'BaggingRegressor', 'ExtraTreesRegressor', \n",
    "              'AdaBoostRegressor', 'VotingRegressor'],\n",
    "    \n",
    "    'r2_train': acc_train_r2,\n",
    "    'r2_test': acc_test_r2,\n",
    "    'd_train': acc_train_d,\n",
    "    'd_test': acc_test_d,\n",
    "    'rmse_train': acc_train_rmse,\n",
    "    'rmse_test': acc_test_rmse\n",
    "                     })"
   ]
  },
  {
   "cell_type": "code",
   "execution_count": null,
   "metadata": {},
   "outputs": [],
   "source": [
    "pd.options.display.float_format = '{:,.2f}'.format"
   ]
  },
  {
   "cell_type": "code",
   "execution_count": null,
   "metadata": {},
   "outputs": [],
   "source": [
    "print('Prediction accuracy for models by R2 criterion - r2_test')\n",
    "models.sort_values(by=['r2_test', 'r2_train'], ascending=False)"
   ]
  },
  {
   "cell_type": "code",
   "execution_count": null,
   "metadata": {},
   "outputs": [],
   "source": [
    "print('Prediction accuracy for models by relative error - d_test')\n",
    "models.sort_values(by=['d_test', 'd_train'], ascending=True)"
   ]
  },
  {
   "cell_type": "code",
   "execution_count": null,
   "metadata": {},
   "outputs": [],
   "source": [
    "print('Prediction accuracy for models by RMSE - rmse_test')\n",
    "models.sort_values(by=['rmse_test', 'rmse_train'], ascending=True)"
   ]
  },
  {
   "cell_type": "code",
   "execution_count": null,
   "metadata": {},
   "outputs": [],
   "source": [
    "# Plot\n",
    "plt.figure(figsize=[25,6])\n",
    "xx = models['Model']\n",
    "plt.tick_params(labelsize=14)\n",
    "plt.plot(xx, models['r2_train'], label = 'r2_train')\n",
    "plt.plot(xx, models['r2_test'], label = 'r2_test')\n",
    "plt.legend()\n",
    "plt.title('R2-criterion for 15 popular models for train and test datasets')\n",
    "plt.xlabel('Models')\n",
    "plt.ylabel('R2-criterion, %')\n",
    "plt.xticks(xx, rotation='vertical')\n",
    "plt.savefig('graph.png')\n",
    "plt.show()"
   ]
  },
  {
   "cell_type": "code",
   "execution_count": null,
   "metadata": {},
   "outputs": [],
   "source": [
    "# Plot\n",
    "plt.figure(figsize=[25,6])\n",
    "xx = models['Model']\n",
    "plt.tick_params(labelsize=14)\n",
    "plt.plot(xx, models['d_train'], label = 'd_train')\n",
    "plt.plot(xx, models['d_test'], label = 'd_test')\n",
    "plt.legend()\n",
    "plt.title('Relative errors for 15 popular models for train and test datasets')\n",
    "plt.xlabel('Models')\n",
    "plt.ylabel('Relative error, %')\n",
    "plt.xticks(xx, rotation='vertical')\n",
    "plt.savefig('graph.png')\n",
    "plt.show()"
   ]
  },
  {
   "cell_type": "code",
   "execution_count": null,
   "metadata": {},
   "outputs": [],
   "source": [
    "# Plot\n",
    "plt.figure(figsize=[25,6])\n",
    "xx = models['Model']\n",
    "plt.tick_params(labelsize=14)\n",
    "plt.plot(xx, models['rmse_train'], label = 'rmse_train')\n",
    "plt.plot(xx, models['rmse_test'], label = 'rmse_test')\n",
    "plt.legend()\n",
    "plt.title('RMSE for 15 popular models for train and test datasets')\n",
    "plt.xlabel('Models')\n",
    "plt.ylabel('RMSE, %')\n",
    "plt.xticks(xx, rotation='vertical')\n",
    "plt.savefig('graph.png')\n",
    "plt.show()"
   ]
  },
  {
   "cell_type": "markdown",
   "metadata": {},
   "source": [
    "Thus, the best models by the RMSE are Linear Regression and Ridge Regressor."
   ]
  },
  {
   "cell_type": "markdown",
   "metadata": {},
   "source": [
    "## 7. Prediction <a class=\"anchor\" id=\"7\"></a>\n",
    "\n",
    "[Back to Table of Contents](#0.1)"
   ]
  },
  {
   "cell_type": "code",
   "execution_count": null,
   "metadata": {},
   "outputs": [],
   "source": [
    "test0.info()"
   ]
  },
  {
   "cell_type": "code",
   "execution_count": null,
   "metadata": {},
   "outputs": [],
   "source": [
    "test0.head(3)"
   ]
  },
  {
   "cell_type": "code",
   "execution_count": null,
   "metadata": {},
   "outputs": [],
   "source": [
    "#For models from Sklearn\n",
    "testn = pd.DataFrame(scaler.transform(test0), columns = test0.columns)"
   ]
  },
  {
   "cell_type": "code",
   "execution_count": null,
   "metadata": {},
   "outputs": [],
   "source": [
    "#Linear Regression model for basic train\n",
    "linreg.fit(train0, train_target0)\n",
    "linreg.predict(testn)[:3]"
   ]
  },
  {
   "cell_type": "code",
   "execution_count": null,
   "metadata": {},
   "outputs": [],
   "source": [
    "#Ridge Regressor model for basic train\n",
    "ridge.fit(train0, train_target0)\n",
    "ridge.predict(testn)[:3]"
   ]
  },
  {
   "cell_type": "markdown",
   "metadata": {},
   "source": [
    "I hope you find this kernel useful and enjoyable."
   ]
  },
  {
   "cell_type": "markdown",
   "metadata": {},
   "source": [
    "Your comments and feedback are most welcome."
   ]
  },
  {
   "cell_type": "markdown",
   "metadata": {},
   "source": [
    "[Go to Top](#0)"
   ]
  }
 ],
 "metadata": {
  "kernelspec": {
   "display_name": "Python 3",
   "language": "python",
   "name": "python3"
  },
  "language_info": {
   "codemirror_mode": {
    "name": "ipython",
    "version": 3
   },
   "file_extension": ".py",
   "mimetype": "text/x-python",
   "name": "python",
   "nbconvert_exporter": "python",
   "pygments_lexer": "ipython3",
   "version": "3.7.4"
  }
 },
 "nbformat": 4,
 "nbformat_minor": 1
}
